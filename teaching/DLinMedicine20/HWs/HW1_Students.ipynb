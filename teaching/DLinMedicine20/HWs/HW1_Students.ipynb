{
 "cells": [
  {
   "cell_type": "markdown",
   "metadata": {},
   "source": [
    "# Deep Learning in Medicine\n",
    "### BMSC-GA 4493, BMIN-GA 3007 \n",
    "### Spring 2020\n",
    "### Homework 1"
   ]
  },
  {
   "cell_type": "markdown",
   "metadata": {},
   "source": [
    "**Learning Objectives**:\n",
    "\n",
    "1. Basic Math Revision.\n",
    "2. Introduction to Machine Learning.\n",
    "3. Logistic Regression Model.\n",
    "4. Multi-layer Perceptron Model.\n",
    "5. Intro to Convolutional Neural Network Models."
   ]
  },
  {
   "cell_type": "markdown",
   "metadata": {},
   "source": [
    "**Instruction** \n",
    "\n",
    "1. If you need to write mathematical terms, you can type your answeres in a Markdown Cell via LaTex. See: <a href=\"https://stackoverflow.com/questions/13208286/how-to-write-latex-in-ipython-notebook\">here</a> if you have issues with writing equations. To see basic LaTex notation see: <a href=\"https://en.wikibooks.org/wiki/LaTeX/Mathematics\"> here </a>.\n",
    "\n",
    "2. Upload and Submit your final jupyter notebook file in <a href='http://newclasses.nyu.edu '>newclasses.nyu.edu</a>\n",
    "\n",
    "3. Deadline: Thursday Feb 20th 2020 (3pm) **\n",
    "\n",
    "4. Questions and Clarification: <a href=\"https://piazza.com/nyumc.org/spring2020/bmscga4493andbminga3007/home\"> Class Piazza</a>"
   ]
  },
  {
   "cell_type": "markdown",
   "metadata": {},
   "source": [
    "---\n",
    "# Question 1: Solving Linear Regression via Mean Squared Error (MSE) Optimization Problem (10 points)"
   ]
  },
  {
   "cell_type": "markdown",
   "metadata": {},
   "source": [
    "Imagine that you have measured two variables X and Y, for a simple task, and you belive that they might be linearly related to each other. Here, our input X has 2 dimensions, and the output has 1 dimension. We will use super-script to indicate which sample it is, and sub-scipt to indicate which dimension it is. \n",
    "The measurements are as follows:\n",
    "\n",
    "###### (Training data D = {($X^1$, $Y^1$), ($X^2$, $Y^2$), ($X^3$, $Y^3$)})\n",
    "\n",
    "Sample 1: $X^1 = (x_1^1, x_2^1) = (1,1)$,   $Y^1$ = 6\n",
    "\n",
    "Sample 2: $X^2 = (x_1^2, x_2^2) = (2,3)$,   $Y^2$ = 11\n",
    "\n",
    "Sample 3: $X^3 = (x_1^3, x_2^3) = (-1,0)$,   $Y^3$ = 2\n",
    "\n"
   ]
  },
  {
   "cell_type": "markdown",
   "metadata": {},
   "source": [
    "If we assume that the relationship between X and Y is linear, we can write this relationship as:"
   ]
  },
  {
   "cell_type": "markdown",
   "metadata": {},
   "source": [
    "$Y = f_{W,B}(X) = WX + B = w_1*x_1 + w_2*x_2 + B$"
   ]
  },
  {
   "cell_type": "markdown",
   "metadata": {},
   "source": [
    "where $W = (w_1, w_2)$ and $B$ are the parameters of the model.\t\n",
    "We are interested in finding best values for W and B.\t\n",
    "We define 'best' in terms of a loss function between $f_{W,b}(X_i)$ and $Y_i$ for each ($X_i$ and $Y_i$) in the training data. \t\n",
    "Since $Y_i$s are real numbers, let's consider Mean Squared Error loss. "
   ]
  },
  {
   "cell_type": "markdown",
   "metadata": {},
   "source": [
    "Remember that Mean Squared Error for this function, over training data, and W and B is:\n",
    "\n",
    "$MSELoss(D={(X_1, Y_1), (X_2, Y_2), (X_3, Y_3)}), W, B) = \\frac{1}{3}\\sum_{i=1}^{3} (f_{W,B}(X_i) - Y_i)^2 $"
   ]
  },
  {
   "cell_type": "markdown",
   "metadata": {},
   "source": [
    "### 1.1.\n",
    "Compute the partial derivative of $MESLoss(D, W, B)$, With respect to W and B.\t\n",
    "Remember that $X_1$, $X_2$, $X_3$, $Y_1$, $Y_2$, and $Y_3$ are constants, and already given to us as training data above.\n",
    "\n",
    "$\\frac{d}{d w_1} MSELoss(D, W, B) = ?$\n",
    "\n",
    "$\\frac{d}{d w_2} MSELoss(D, W, B) = ?$\n",
    "\n",
    "$\\frac{d}{d B} MSELoss(D, W, B) = ?$"
   ]
  },
  {
   "cell_type": "code",
   "execution_count": null,
   "metadata": {
    "collapsed": true
   },
   "outputs": [],
   "source": []
  },
  {
   "cell_type": "markdown",
   "metadata": {},
   "source": [
    "### 2.2.\n",
    "Use matplotlib library and plot $\\frac{d}{d w1} MSELoss(D, W, B)$ for $w_1 = np.arange(0,2,0.1)$, when $w_2$ equals 2, and B equals to 3."
   ]
  },
  {
   "cell_type": "code",
   "execution_count": 34,
   "metadata": {},
   "outputs": [],
   "source": [
    "import matplotlib.pyplot as plt\n",
    "import numpy as np\n",
    "w1 = np.arange(0, 2, 0.1)\n",
    "# plot dMSELoss/dw1 here:\n",
    "\n"
   ]
  },
  {
   "cell_type": "markdown",
   "metadata": {},
   "source": [
    "### 2.3.\n",
    "What values of $w_1$, $w_2$ and $B$, make all partial derivatives zero?"
   ]
  },
  {
   "cell_type": "code",
   "execution_count": null,
   "metadata": {
    "collapsed": true
   },
   "outputs": [],
   "source": []
  },
  {
   "cell_type": "markdown",
   "metadata": {},
   "source": [
    "### 2.4.\n",
    "If you start from an initial point $w_1^0 = 0.1$ , $w_2^0 = 0.1$ and $B^0 = 0.1$, and iteratively update your $w_1$, $w_2$, and B via gradient descent as follows:\n",
    "    \n",
    "$ w_1^{t+1} = w_1^t - 0.01 * \\frac{d}{d w_1} MSELoss(D, W, B) |_{w_1^t,w_2^t,B^t} $\t\n",
    "$ w_2^{t+1} = w_2^t - 0.01 * \\frac{d}{d w_2} MSELoss(D, W, B) |_{w_1^t,w_2^t,B^t} $\t\n",
    "$ B^{t+1} = B^t - 0.01 * \\frac{d}{d B} MSELoss(D, W, B) |_{w_1^t,w_2^t,B^t} $\t\n",
    "(Note: This is gradient descent with a 0.01 learning rate.)\n",
    "\n",
    "What are the values of Ws and B over iterations 0 to 50? (Don't compute by hand! Write a code!)\t\n",
    "Write a python script that computes these values for 50 iterations, i.e. lists of $\\{w_1^0, w^1_1,.., w_1^{50}\\}$, $\\{w_2^0, w_2^1,.., w_2^{50}\\}$, and $\\{B^0, B^1,.., B^{50}\\}$.\t\n",
    "Plot the lists of $w_1$s, $w_2$s and Bs over 50 iterations.\n",
    "\n"
   ]
  },
  {
   "cell_type": "code",
   "execution_count": null,
   "metadata": {
    "collapsed": true
   },
   "outputs": [],
   "source": []
  },
  {
   "cell_type": "markdown",
   "metadata": {},
   "source": [
    "### 2.5.\n",
    "Now that you learned the math and made the code yourself, we will use pytorch and automatic differentiation, to find optimal W and B!\t\n",
    "Again, consider data to be D = {($X_1$, $Y_1$), ($X_2$, $Y_2$), ($X_3$, $Y_3$)}) = {((1,1), 6), ((2,3),11), ((-1,0),2)}.\n",
    "\n",
    "Some of your steps are here. Fill in the rest and show a plot of the loss function, $w_1$, $w_2$ and B over these 10 epochs. (4 plots total)"
   ]
  },
  {
   "cell_type": "code",
   "execution_count": null,
   "metadata": {},
   "outputs": [],
   "source": [
    "import torch\n",
    "import torch.nn as nn\n",
    "import numpy as np\n",
    "from torch import optim\n",
    "\n",
    "D = [((1,1), 6), ((2,3),11), ((-1,0),2)]\n",
    "X = [d[0] for d in D]\n",
    "Y = [d[1] for d in D]\n",
    "print('data X is:', X)\n",
    "print('data Y is:', Y)\n",
    "\n",
    "model = torch.nn.Linear(2, 1, bias=True)\n",
    "optimizer = optim.SGD(model.parameters(), lr=0.01)\n",
    "loss = torch.nn.MSELoss()\n",
    "\n",
    "losslist = []\n",
    "w1list = []\n",
    "w2list = []\n",
    "blist = []\n",
    "\n",
    "# for epoch in range(10):\n",
    "    # Shuffle your training data samples\n",
    "    # Loop over your training data in the new order:\n",
    "        #dont forget to: optimizer.zero_grad()\n",
    "        #prepare your x_input and y_target if needed\n",
    "        #send the data through your model: i.e. pred_i = model(x_input)\n",
    "        #send the prediction through the loss function too: i.e. lossout= loss(pred_i, y_target)\n",
    "        #call backward to back-propagate: i.e. lossout.backward()\n",
    "        #call optimizer.step() to update the model parameters based on the computed gradients\n",
    "        #keep the w1s, w2s, and bs, and loss value some list so you can plot them later\n",
    "\n",
    "#plot the losslist, w1s, w2s, and bs.\n",
    "        \n"
   ]
  },
  {
   "cell_type": "markdown",
   "metadata": {},
   "source": [
    "---\n",
    "# Question 2: Learning Curves, Overfitting, and Machine Learning!\n"
   ]
  },
  {
   "cell_type": "markdown",
   "metadata": {},
   "source": [
    "Now we know how to optimize, let's get some real machine learning done!\n",
    "\n",
    "We will use the Diabetes Dataset which can be downloaded from [here](https://drive.google.com/drive/folders/1nuZg4pMFvOZHCHxtU5gBEnHq9YJBdZX_).\n",
    "\n",
    "In this dataset, we are trying to predict if a person doesn't have diabetes (0), has diabetes in Stage 1 or in Stage 2. The output labels can be found in Output.csv. All the other files will be used as Input. From these files, the columns that we are interested in and what they stand for are as follows :\n",
    "                          \n",
    "                          SEQN : ID\n",
    "                          \n",
    "                          RIAGENDR : Gender\n",
    "                          \n",
    "                          DMDYRSUS : Years in US\n",
    "                          \n",
    "                          INDFMPIR : Family income\n",
    "                          \n",
    "                          LBXGH : GlycoHemoglobin\n",
    "                          \n",
    "                          BMXARMC : Arm Circum\n",
    "                          \n",
    "                          BMDAVSAD : Saggital Abdominal\n",
    "                          \n",
    "                          MGDCGSZ : Grip Strength\n",
    "                          \n",
    "                          DRABF : Breast fed\n",
    "\n",
    "We will use the first 6000 samples for training while the rest for testing.\n",
    "\n",
    "Solve questions 3.1 to 3.7 with this information."
   ]
  },
  {
   "cell_type": "markdown",
   "metadata": {},
   "source": [
    "### 2.1. Data Analysis\n",
    "\n",
    "Read the input csvs. Rename the variables with their meaningful names shown above.<br>\n",
    "Print all the desired variables in the training set with their count, mean, standard deviation and range. \n",
    "\n",
    "__Hint__ : If you are using pandas, it might save some time to look for a built-in function that returns all these!"
   ]
  },
  {
   "cell_type": "code",
   "execution_count": null,
   "metadata": {
    "collapsed": true
   },
   "outputs": [],
   "source": []
  },
  {
   "cell_type": "markdown",
   "metadata": {},
   "source": [
    "### 2.2. Fill in missing values\n",
    "\n",
    "Fill in rows for both the train and test sets where the values are missing with the __fillna__ method. Use the following criteria:\n",
    "\n",
    "1. Missing Years in US - 0\n",
    "2. Missing GlycoHemoglobin - median\n",
    "3. Missing Saggital Abdominal - median\n",
    "4. Missing Arm Circum - median\n",
    "5. Missing Grip Strength - median\n",
    "6. Missing Family Income - forward fill\n",
    "7. Missing Breast Fed - 1\n",
    "8. Missing Gender - 2 \n",
    "\n",
    "Median value has to be calculated for the particular column only on the training set.<br>\n",
    "Now create a dataframe with only the desired variables for both train and test sets. Print the training set mean, standard deviation and range again."
   ]
  },
  {
   "cell_type": "code",
   "execution_count": null,
   "metadata": {
    "collapsed": true
   },
   "outputs": [],
   "source": []
  },
  {
   "cell_type": "markdown",
   "metadata": {},
   "source": [
    "### 2.3. The DataLoader\n",
    "\n",
    "Write a dataloader class in Pytorch for our dataset. \n",
    "\n",
    "If you need help in writing a dataloader class, read more about it __[here](https://pytorch.org/tutorials/beginner/data_loading_tutorial.html#dataset-class)__."
   ]
  },
  {
   "cell_type": "code",
   "execution_count": null,
   "metadata": {
    "collapsed": true
   },
   "outputs": [],
   "source": []
  },
  {
   "cell_type": "markdown",
   "metadata": {},
   "source": [
    "### 2.4. The Network.\n",
    "\n",
    "Write a 2 hidden layer Multilayer Perceptron class using Pytorch. Use ReLU as the non-linearity. The hidden layer sizes are 1000-300.\n",
    "\n",
    "__Bonus__: Write a function to initialize the layer weights."
   ]
  },
  {
   "cell_type": "code",
   "execution_count": null,
   "metadata": {
    "collapsed": true
   },
   "outputs": [],
   "source": []
  },
  {
   "cell_type": "markdown",
   "metadata": {},
   "source": [
    "### 2.5. The Training phase\n",
    "\n",
    "Write a function to train your model and the rest of the script required to run this.<br>\n",
    "Plot the average loss per epoch for 100 epochs. Report the loss values at epoch 100.<br>\n",
    "Parameters to be used are as follows:<br>\n",
    "\n",
    "Optimizer : Stochastic Gradient Descent<br>\n",
    "Learning Rate : 1e-4<br>\n",
    "Loss : Cross Entropy<br>\n",
    "Batchsize : 200<br>\n",
    "Shuffle : True"
   ]
  },
  {
   "cell_type": "code",
   "execution_count": null,
   "metadata": {
    "collapsed": true
   },
   "outputs": [],
   "source": []
  },
  {
   "cell_type": "markdown",
   "metadata": {},
   "source": [
    "### 2.6. The Testing Phase\n",
    "\n",
    "Write a function to test your trained model.<br>Report the average test loss and the testing accuracy.<br>Also print the confusion matrix."
   ]
  },
  {
   "cell_type": "code",
   "execution_count": null,
   "metadata": {
    "collapsed": true
   },
   "outputs": [],
   "source": []
  },
  {
   "cell_type": "markdown",
   "metadata": {},
   "source": [
    "## 2.7 Model Performance\n",
    "Now calculate the AUC of your trained model on the test set.<br>\n",
    "**(Bonus)** Use the sklearn Multiclass Logistic Regression model and fit it to our dataset. Calculate the AUC of this model. Compare the two AUCs."
   ]
  },
  {
   "cell_type": "code",
   "execution_count": null,
   "metadata": {
    "collapsed": true
   },
   "outputs": [],
   "source": []
  },
  {
   "cell_type": "markdown",
   "metadata": {},
   "source": [
    "# Question 3: CNN Network design for disease classification"
   ]
  },
  {
   "cell_type": "markdown",
   "metadata": {},
   "source": [
    "Disease classification is a common problem in medicine and there are many ways to solve this problem. This question aims to show you one technique to tackle this classification task.\n",
    "\n",
    "Assume that we have a 10K images in a dataset of x-rays. Each image has the dimension of 128x128 and a label that defines which class the image belongs (lets assume we have 10 disease classes in total). \n",
    "\n",
    "You will describe your approach of classifying the disease for the techniques below. Make sure you do not forget the bias term. You can either design your proposed network by explaining it explicitely or you can provide the pytorch code which designs the network for questions 3.1.a, 3.2.a, and 3.3.a\n"
   ]
  },
  {
   "cell_type": "markdown",
   "metadata": {},
   "source": [
    "### 3.1. Logistic Regression"
   ]
  },
  {
   "cell_type": "markdown",
   "metadata": {},
   "source": [
    "### 3.1.a.\n",
    "\n",
    "Design a multi-class logistic regression model which takes an image as input (by reshaping it to a vector: lets call this a vectorized image) and outputs to get the probability of 10 disease classes. "
   ]
  },
  {
   "cell_type": "code",
   "execution_count": null,
   "metadata": {
    "collapsed": true
   },
   "outputs": [],
   "source": []
  },
  {
   "cell_type": "markdown",
   "metadata": {},
   "source": [
    "### 3.1.b.\n",
    "What are the sizes for your input and output?"
   ]
  },
  {
   "cell_type": "code",
   "execution_count": null,
   "metadata": {
    "collapsed": true
   },
   "outputs": [],
   "source": []
  },
  {
   "cell_type": "markdown",
   "metadata": {},
   "source": [
    "### 3.1.c.\n",
    "What type of activation function you will use and why?"
   ]
  },
  {
   "cell_type": "code",
   "execution_count": null,
   "metadata": {
    "collapsed": true
   },
   "outputs": [],
   "source": []
  },
  {
   "cell_type": "markdown",
   "metadata": {},
   "source": [
    "### 3.1.d.\n",
    "How many parameters you need to fit for your design?"
   ]
  },
  {
   "cell_type": "code",
   "execution_count": null,
   "metadata": {
    "collapsed": true
   },
   "outputs": [],
   "source": []
  },
  {
   "cell_type": "markdown",
   "metadata": {},
   "source": [
    "### 3.2. Multi-layer Perceptron"
   ]
  },
  {
   "cell_type": "markdown",
   "metadata": {},
   "source": [
    "### 3.2.a.\n",
    "Design a one layer multi layer perceptron (MLP) which first maps the vectorized images to a vector of 128 then feeds this vector to a fully connected layer to get the probability of 10 disease classes. "
   ]
  },
  {
   "cell_type": "code",
   "execution_count": null,
   "metadata": {
    "collapsed": true
   },
   "outputs": [],
   "source": []
  },
  {
   "cell_type": "markdown",
   "metadata": {},
   "source": [
    "### 3.2.b.\n",
    "\n",
    "Clearly mention the sizes for your input and output at each layer until you get final output vector with 10 probabilities"
   ]
  },
  {
   "cell_type": "code",
   "execution_count": null,
   "metadata": {
    "collapsed": true
   },
   "outputs": [],
   "source": []
  },
  {
   "cell_type": "markdown",
   "metadata": {},
   "source": [
    "### 3.2.c. \n",
    "Define two types of activation functions you can use in the first layer. Which activation function you will use on the second fully connected layer?"
   ]
  },
  {
   "cell_type": "code",
   "execution_count": null,
   "metadata": {
    "collapsed": true
   },
   "outputs": [],
   "source": []
  },
  {
   "cell_type": "markdown",
   "metadata": {},
   "source": [
    "### 3.2.d.\n",
    "How many parameters you need to fit for your design? How does adding another hidden layer effected the number of parameters to use?"
   ]
  },
  {
   "cell_type": "code",
   "execution_count": null,
   "metadata": {
    "collapsed": true
   },
   "outputs": [],
   "source": []
  },
  {
   "cell_type": "markdown",
   "metadata": {},
   "source": [
    "### 3.3. Convolutional Neural Network (CNN)"
   ]
  },
  {
   "cell_type": "markdown",
   "metadata": {},
   "source": [
    "### 3.3.a.\n",
    "\n",
    "Design a one layer convolutional neural network which first maps the images to a vector of 128 (with the help of convolution and pooling operations) then feeds this vector to a fully connected layer to get the probability of 10 disease classes."
   ]
  },
  {
   "cell_type": "code",
   "execution_count": null,
   "metadata": {
    "collapsed": true
   },
   "outputs": [],
   "source": []
  },
  {
   "cell_type": "markdown",
   "metadata": {},
   "source": [
    "### 3.3.b.\n",
    "Clearly mention the sizes for your input, kernel, pooling, and output at each step until you get final output vector with 10 probabilities"
   ]
  },
  {
   "cell_type": "code",
   "execution_count": null,
   "metadata": {
    "collapsed": true
   },
   "outputs": [],
   "source": []
  },
  {
   "cell_type": "markdown",
   "metadata": {},
   "source": [
    "### 3.3.c.\n",
    "\n",
    "How many parameters you need to fit for your design?"
   ]
  },
  {
   "cell_type": "code",
   "execution_count": null,
   "metadata": {
    "collapsed": true
   },
   "outputs": [],
   "source": []
  },
  {
   "cell_type": "markdown",
   "metadata": {},
   "source": [
    "### 3.3.d.\n",
    "\n",
    "Increase your selected convolution kernel size by 2 in each direction. Describe the effect of using small vs large filter size during convolution. "
   ]
  },
  {
   "cell_type": "code",
   "execution_count": null,
   "metadata": {
    "collapsed": true
   },
   "outputs": [],
   "source": []
  },
  {
   "cell_type": "markdown",
   "metadata": {},
   "source": [
    "### 3.3.e.\n",
    "\n",
    "Multiply your selected stride size for convolution and pooling operation by 2. Describe the effect of this change in design criteria in terms of memory requirements, number of parameters to fit and number of operations."
   ]
  },
  {
   "cell_type": "code",
   "execution_count": null,
   "metadata": {
    "collapsed": true
   },
   "outputs": [],
   "source": []
  },
  {
   "cell_type": "markdown",
   "metadata": {},
   "source": [
    "### 3.3.f.\n",
    "\n",
    "Assume we trained the designed network and we want to classify the disease from a image of size 256x192.  and we want to use your designed network for inference. Describe if your designed CNN is capable of accepting this image without any preprocessing. If we can not use your network with this image, please propose changes on your network which will enable accepting images of various shapes. "
   ]
  },
  {
   "cell_type": "code",
   "execution_count": null,
   "metadata": {
    "collapsed": true
   },
   "outputs": [],
   "source": []
  }
 ],
 "metadata": {
  "kernelspec": {
   "display_name": "Python 3",
   "language": "python",
   "name": "python3"
  },
  "language_info": {
   "codemirror_mode": {
    "name": "ipython",
    "version": 3
   },
   "file_extension": ".py",
   "mimetype": "text/x-python",
   "name": "python",
   "nbconvert_exporter": "python",
   "pygments_lexer": "ipython3",
   "version": "3.7.1"
  }
 },
 "nbformat": 4,
 "nbformat_minor": 2
}
